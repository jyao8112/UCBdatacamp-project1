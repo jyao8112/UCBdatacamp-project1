{
 "cells": [
  {
   "cell_type": "code",
   "execution_count": 2,
   "metadata": {},
   "outputs": [],
   "source": [
    "import pandas as pd\n",
    "import numpy as np\n",
    "\n",
    "from matplotlib import pyplot as plt\n",
    "from scipy.stats import linregress\n",
    "\n",
    "pd.set_option('display.float_format', lambda x: '%.2f' % x)"
   ]
  },
  {
   "cell_type": "code",
   "execution_count": 3,
   "metadata": {},
   "outputs": [],
   "source": [
    "Happiness_finance = pd.read_csv(\"Resources/Happiness_finance_final2.csv\")\n",
    "pollution = pd.read_csv(\"Resources/pollution_index.csv\")"
   ]
  },
  {
   "cell_type": "code",
   "execution_count": 4,
   "metadata": {},
   "outputs": [
    {
     "data": {
      "text/html": [
       "<div>\n",
       "<style scoped>\n",
       "    .dataframe tbody tr th:only-of-type {\n",
       "        vertical-align: middle;\n",
       "    }\n",
       "\n",
       "    .dataframe tbody tr th {\n",
       "        vertical-align: top;\n",
       "    }\n",
       "\n",
       "    .dataframe thead th {\n",
       "        text-align: right;\n",
       "    }\n",
       "</style>\n",
       "<table border=\"1\" class=\"dataframe\">\n",
       "  <thead>\n",
       "    <tr style=\"text-align: right;\">\n",
       "      <th></th>\n",
       "      <th>Unnamed: 0</th>\n",
       "      <th>Country</th>\n",
       "      <th>Country Code</th>\n",
       "      <th>Region</th>\n",
       "      <th>Happiness Ranking</th>\n",
       "      <th>Happiness Score</th>\n",
       "      <th>Gross GDP 2015</th>\n",
       "      <th>Unemployment Rate 2015(%)</th>\n",
       "      <th>GDP Per Capita 2015(USD)</th>\n",
       "      <th>Gross GDP 2015(USD Billion)</th>\n",
       "      <th>GDP Per Capita 2015(USD in thousands)</th>\n",
       "      <th>Pollution Index</th>\n",
       "    </tr>\n",
       "  </thead>\n",
       "  <tbody>\n",
       "    <tr>\n",
       "      <th>0</th>\n",
       "      <td>0</td>\n",
       "      <td>Switzerland</td>\n",
       "      <td>CHE</td>\n",
       "      <td>Western Europe</td>\n",
       "      <td>1</td>\n",
       "      <td>7.59</td>\n",
       "      <td>679289166858.24</td>\n",
       "      <td>4.80</td>\n",
       "      <td>82510.41</td>\n",
       "      <td>679.29</td>\n",
       "      <td>82.51</td>\n",
       "      <td>24.07</td>\n",
       "    </tr>\n",
       "    <tr>\n",
       "      <th>1</th>\n",
       "      <td>1</td>\n",
       "      <td>Iceland</td>\n",
       "      <td>ISL</td>\n",
       "      <td>Western Europe</td>\n",
       "      <td>2</td>\n",
       "      <td>7.56</td>\n",
       "      <td>16942247373.97</td>\n",
       "      <td>3.98</td>\n",
       "      <td>52158.36</td>\n",
       "      <td>16.94</td>\n",
       "      <td>52.16</td>\n",
       "      <td>13.78</td>\n",
       "    </tr>\n",
       "    <tr>\n",
       "      <th>2</th>\n",
       "      <td>2</td>\n",
       "      <td>Denmark</td>\n",
       "      <td>DNK</td>\n",
       "      <td>Western Europe</td>\n",
       "      <td>3</td>\n",
       "      <td>7.53</td>\n",
       "      <td>301298464861.39</td>\n",
       "      <td>6.17</td>\n",
       "      <td>53235.65</td>\n",
       "      <td>301.30</td>\n",
       "      <td>53.24</td>\n",
       "      <td>31.79</td>\n",
       "    </tr>\n",
       "    <tr>\n",
       "      <th>3</th>\n",
       "      <td>3</td>\n",
       "      <td>Norway</td>\n",
       "      <td>NOR</td>\n",
       "      <td>Western Europe</td>\n",
       "      <td>4</td>\n",
       "      <td>7.52</td>\n",
       "      <td>386663139402.71</td>\n",
       "      <td>4.30</td>\n",
       "      <td>74280.67</td>\n",
       "      <td>386.66</td>\n",
       "      <td>74.28</td>\n",
       "      <td>23.70</td>\n",
       "    </tr>\n",
       "    <tr>\n",
       "      <th>4</th>\n",
       "      <td>4</td>\n",
       "      <td>Canada</td>\n",
       "      <td>CAN</td>\n",
       "      <td>North America</td>\n",
       "      <td>5</td>\n",
       "      <td>7.43</td>\n",
       "      <td>1559623393038.66</td>\n",
       "      <td>6.91</td>\n",
       "      <td>43559.73</td>\n",
       "      <td>1,559.62</td>\n",
       "      <td>43.56</td>\n",
       "      <td>27.30</td>\n",
       "    </tr>\n",
       "  </tbody>\n",
       "</table>\n",
       "</div>"
      ],
      "text/plain": [
       "   Unnamed: 0      Country Country Code          Region  Happiness Ranking  \\\n",
       "0           0  Switzerland          CHE  Western Europe                  1   \n",
       "1           1      Iceland          ISL  Western Europe                  2   \n",
       "2           2      Denmark          DNK  Western Europe                  3   \n",
       "3           3       Norway          NOR  Western Europe                  4   \n",
       "4           4       Canada          CAN   North America                  5   \n",
       "\n",
       "   Happiness Score   Gross GDP 2015  Unemployment Rate 2015(%)   \\\n",
       "0             7.59  679289166858.24                        4.80   \n",
       "1             7.56   16942247373.97                        3.98   \n",
       "2             7.53  301298464861.39                        6.17   \n",
       "3             7.52  386663139402.71                        4.30   \n",
       "4             7.43 1559623393038.66                        6.91   \n",
       "\n",
       "   GDP Per Capita 2015(USD) Gross GDP 2015(USD Billion)  \\\n",
       "0                  82510.41                      679.29   \n",
       "1                  52158.36                       16.94   \n",
       "2                  53235.65                      301.30   \n",
       "3                  74280.67                      386.66   \n",
       "4                  43559.73                    1,559.62   \n",
       "\n",
       "   GDP Per Capita 2015(USD in thousands)   Pollution Index  \n",
       "0                                   82.51            24.07  \n",
       "1                                   52.16            13.78  \n",
       "2                                   53.24            31.79  \n",
       "3                                   74.28            23.70  \n",
       "4                                   43.56            27.30  "
      ]
     },
     "execution_count": 4,
     "metadata": {},
     "output_type": "execute_result"
    }
   ],
   "source": [
    "Happiness_pollution= pd.merge(Happiness_finance, pollution, on='Country', how='left')\n",
    "Happiness_pollution.head()"
   ]
  },
  {
   "cell_type": "code",
   "execution_count": 5,
   "metadata": {},
   "outputs": [
    {
     "name": "stdout",
     "output_type": "stream",
     "text": [
      "<class 'pandas.core.frame.DataFrame'>\n",
      "Int64Index: 136 entries, 0 to 135\n",
      "Data columns (total 12 columns):\n",
      "Unnamed: 0                                136 non-null int64\n",
      "Country                                   136 non-null object\n",
      "Country Code                              136 non-null object\n",
      "Region                                    136 non-null object\n",
      "Happiness Ranking                         136 non-null int64\n",
      "Happiness Score                           136 non-null float64\n",
      "Gross GDP 2015                            136 non-null float64\n",
      "Unemployment Rate 2015(%)                 136 non-null float64\n",
      "GDP Per Capita 2015(USD)                  136 non-null float64\n",
      "Gross GDP 2015(USD Billion)               136 non-null object\n",
      "GDP Per Capita 2015(USD in thousands)     136 non-null float64\n",
      "Pollution Index                           107 non-null float64\n",
      "dtypes: float64(6), int64(2), object(4)\n",
      "memory usage: 13.8+ KB\n"
     ]
    }
   ],
   "source": [
    "Happiness_pollution.info()"
   ]
  },
  {
   "cell_type": "code",
   "execution_count": 6,
   "metadata": {},
   "outputs": [
    {
     "name": "stdout",
     "output_type": "stream",
     "text": [
      "<class 'pandas.core.frame.DataFrame'>\n",
      "Int64Index: 107 entries, 0 to 131\n",
      "Data columns (total 12 columns):\n",
      "Unnamed: 0                                107 non-null int64\n",
      "Country                                   107 non-null object\n",
      "Country Code                              107 non-null object\n",
      "Region                                    107 non-null object\n",
      "Happiness Ranking                         107 non-null int64\n",
      "Happiness Score                           107 non-null float64\n",
      "Gross GDP 2015                            107 non-null float64\n",
      "Unemployment Rate 2015(%)                 107 non-null float64\n",
      "GDP Per Capita 2015(USD)                  107 non-null float64\n",
      "Gross GDP 2015(USD Billion)               107 non-null object\n",
      "GDP Per Capita 2015(USD in thousands)     107 non-null float64\n",
      "Pollution Index                           107 non-null float64\n",
      "dtypes: float64(6), int64(2), object(4)\n",
      "memory usage: 10.9+ KB\n"
     ]
    }
   ],
   "source": [
    "Happiness_pollution = Happiness_pollution.dropna()\n",
    "Happiness_pollution.info()"
   ]
  },
  {
   "cell_type": "code",
   "execution_count": 7,
   "metadata": {},
   "outputs": [
    {
     "data": {
      "text/plain": [
       "<matplotlib.legend.Legend at 0x10d9e4b70>"
      ]
     },
     "execution_count": 7,
     "metadata": {},
     "output_type": "execute_result"
    },
    {
     "data": {
      "image/png": "[encoded data removed]",
      "text/plain": [
       "<Figure size 432x288 with 1 Axes>"
      ]
     },
     "metadata": {
      "needs_background": "light"
     },
     "output_type": "display_data"
    }
   ],
   "source": [
    "pollution = Happiness_pollution[\"Pollution Index\"]\n",
    "x_axis = pollution\n",
    "\n",
    "#(slope_hle, intercept_hle, r_hle , p_hle, se_hle) = linregress(x_axis_hle,happinese_ranking_data[\"Happiness Score\"] )\n",
    "(slope_pollution, intercept_pollution, r_pollution , p_pollution, se_pollution) = linregress(x_axis,Happiness_pollution[\"Happiness Score\"] )\n",
    "fit_pollution = slope_pollution * x_axis + intercept_pollution\n",
    "\n",
    "#fig, (ax1, ax2) = plt.subplots(2, sharex= False)\n",
    "plt.title(\"Happiness Score vs. Pollution\", fontsize=14, fontweight=\"bold\")\n",
    "\n",
    "plt.xlim(0,140)\n",
    "      \n",
    "plt.ylim(min(Happiness_pollution[\"Happiness Score\"]-0.5),max(Happiness_pollution[\"Happiness Score\"])+0.5)\n",
    "plt.scatter(x_axis,Happiness_pollution[\"Happiness Score\"] ,linewidth=0, marker=\"o\")\n",
    "plt.plot(x_axis, fit_pollution,'b--',linewidth=1,label='y={:.2f}x+{:.2f}'.format(slope_pollution,intercept_pollution))\n",
    "\n",
    "plt.ylabel(\"Happiness Score\")\n",
    "plt.xlabel(\"Pollution Index\")\n",
    "plt.legend()\n",
    "\n"
   ]
  },
  {
   "cell_type": "code",
   "execution_count": 8,
   "metadata": {},
   "outputs": [
    {
     "name": "stdout",
     "output_type": "stream",
     "text": [
      "-0.6313439197131803 3.0930250006557106e-13 0.0033675150199638125\n"
     ]
    }
   ],
   "source": [
    "print(r_pollution , p_pollution, se_pollution)\n"
   ]
  },
  {
   "cell_type": "code",
   "execution_count": null,
   "metadata": {},
   "outputs": [],
   "source": []
  }
 ],
 "metadata": {
  "kernelspec": {
   "display_name": "Python 3",
   "language": "python",
   "name": "python3"
  },
  "language_info": {
   "codemirror_mode": {
    "name": "ipython",
    "version": 3
   },
   "file_extension": ".py",
   "mimetype": "text/x-python",
   "name": "python",
   "nbconvert_exporter": "python",
   "pygments_lexer": "ipython3",
   "version": "3.7.1"
  }
 },
 "nbformat": 4,
 "nbformat_minor": 2
}
